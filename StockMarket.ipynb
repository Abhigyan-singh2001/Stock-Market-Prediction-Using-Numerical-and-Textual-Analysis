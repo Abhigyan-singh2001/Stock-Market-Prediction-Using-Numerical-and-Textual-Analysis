{
 "cells": [
  {
   "cell_type": "markdown",
   "metadata": {},
   "source": [
    "# Import all necessary libraries\n"
   ]
  },
  {
   "cell_type": "code",
   "execution_count": 72,
   "metadata": {},
   "outputs": [
    {
     "name": "stdout",
     "output_type": "stream",
     "text": [
      "Requirement already satisfied: pmdarima in e:\\users\\abhigyan\\anaconda3\\lib\\site-packages (1.8.2)\n",
      "Requirement already satisfied: setuptools!=50.0.0,>=38.6.0 in e:\\users\\abhigyan\\anaconda3\\lib\\site-packages (from pmdarima) (49.2.0.post20200714)\n",
      "Requirement already satisfied: scipy>=1.3.2 in e:\\users\\abhigyan\\anaconda3\\lib\\site-packages (from pmdarima) (1.5.0)\n",
      "Requirement already satisfied: numpy~=1.19.0 in e:\\users\\abhigyan\\anaconda3\\lib\\site-packages (from pmdarima) (1.19.5)\n",
      "Requirement already satisfied: Cython!=0.29.18,>=0.29 in e:\\users\\abhigyan\\anaconda3\\lib\\site-packages (from pmdarima) (0.29.21)\n",
      "Requirement already satisfied: urllib3 in e:\\users\\abhigyan\\anaconda3\\lib\\site-packages (from pmdarima) (1.25.9)\n",
      "Requirement already satisfied: joblib>=0.11 in e:\\users\\abhigyan\\anaconda3\\lib\\site-packages (from pmdarima) (0.16.0)\n",
      "Requirement already satisfied: statsmodels!=0.12.0,>=0.11 in e:\\users\\abhigyan\\anaconda3\\lib\\site-packages (from pmdarima) (0.11.1)\n",
      "Requirement already satisfied: pandas>=0.19 in e:\\users\\abhigyan\\anaconda3\\lib\\site-packages (from pmdarima) (1.0.5)\n",
      "Requirement already satisfied: scikit-learn>=0.22 in e:\\users\\abhigyan\\anaconda3\\lib\\site-packages (from pmdarima) (0.23.1)\n",
      "Requirement already satisfied: patsy>=0.5 in e:\\users\\abhigyan\\anaconda3\\lib\\site-packages (from statsmodels!=0.12.0,>=0.11->pmdarima) (0.5.1)\n",
      "Requirement already satisfied: pytz>=2017.2 in e:\\users\\abhigyan\\anaconda3\\lib\\site-packages (from pandas>=0.19->pmdarima) (2020.1)\n",
      "Requirement already satisfied: python-dateutil>=2.6.1 in e:\\users\\abhigyan\\anaconda3\\lib\\site-packages (from pandas>=0.19->pmdarima) (2.8.1)\n",
      "Requirement already satisfied: threadpoolctl>=2.0.0 in e:\\users\\abhigyan\\anaconda3\\lib\\site-packages (from scikit-learn>=0.22->pmdarima) (2.1.0)\n",
      "Requirement already satisfied: six in e:\\users\\abhigyan\\anaconda3\\lib\\site-packages (from patsy>=0.5->statsmodels!=0.12.0,>=0.11->pmdarima) (1.15.0)\n"
     ]
    }
   ],
   "source": [
    "import warnings\n",
    "warnings.filterwarnings(\"ignore\")\n",
    "\n",
    "import pandas as pd\n",
    "import numpy as np\n",
    "import matplotlib.pyplot as plt\n",
    "from pandas import datetime\n",
    "import time\n",
    "from pandas.plotting import lag_plot\n",
    "from sklearn.metrics import mean_squared_error\n",
    "from statsmodels.tsa.arima_model import ARIMA\n",
    "!pip install pmdarima"
   ]
  },
  {
   "cell_type": "markdown",
   "metadata": {},
   "source": [
    "# import data of stocks and some preprocessing"
   ]
  },
  {
   "cell_type": "code",
   "execution_count": 73,
   "metadata": {},
   "outputs": [
    {
     "data": {
      "text/html": [
       "<div>\n",
       "<style scoped>\n",
       "    .dataframe tbody tr th:only-of-type {\n",
       "        vertical-align: middle;\n",
       "    }\n",
       "\n",
       "    .dataframe tbody tr th {\n",
       "        vertical-align: top;\n",
       "    }\n",
       "\n",
       "    .dataframe thead th {\n",
       "        text-align: right;\n",
       "    }\n",
       "</style>\n",
       "<table border=\"1\" class=\"dataframe\">\n",
       "  <thead>\n",
       "    <tr style=\"text-align: right;\">\n",
       "      <th></th>\n",
       "      <th>publish_date</th>\n",
       "      <th>Open</th>\n",
       "      <th>High</th>\n",
       "      <th>Low</th>\n",
       "      <th>Close</th>\n",
       "    </tr>\n",
       "  </thead>\n",
       "  <tbody>\n",
       "    <tr>\n",
       "      <th>0</th>\n",
       "      <td>02-Jan-17</td>\n",
       "      <td>26711.15</td>\n",
       "      <td>26720.98</td>\n",
       "      <td>26447.06</td>\n",
       "      <td>26595.45</td>\n",
       "    </tr>\n",
       "    <tr>\n",
       "      <th>1</th>\n",
       "      <td>03-Jan-17</td>\n",
       "      <td>26616.92</td>\n",
       "      <td>26724.40</td>\n",
       "      <td>26488.37</td>\n",
       "      <td>26643.24</td>\n",
       "    </tr>\n",
       "    <tr>\n",
       "      <th>2</th>\n",
       "      <td>04-Jan-17</td>\n",
       "      <td>26677.22</td>\n",
       "      <td>26723.37</td>\n",
       "      <td>26606.06</td>\n",
       "      <td>26633.13</td>\n",
       "    </tr>\n",
       "    <tr>\n",
       "      <th>3</th>\n",
       "      <td>05-Jan-17</td>\n",
       "      <td>26738.42</td>\n",
       "      <td>26917.21</td>\n",
       "      <td>26738.42</td>\n",
       "      <td>26878.24</td>\n",
       "    </tr>\n",
       "    <tr>\n",
       "      <th>4</th>\n",
       "      <td>06-Jan-17</td>\n",
       "      <td>26929.69</td>\n",
       "      <td>27009.61</td>\n",
       "      <td>26733.33</td>\n",
       "      <td>26759.23</td>\n",
       "    </tr>\n",
       "  </tbody>\n",
       "</table>\n",
       "</div>"
      ],
      "text/plain": [
       "  publish_date      Open      High       Low     Close\n",
       "0    02-Jan-17  26711.15  26720.98  26447.06  26595.45\n",
       "1    03-Jan-17  26616.92  26724.40  26488.37  26643.24\n",
       "2    04-Jan-17  26677.22  26723.37  26606.06  26633.13\n",
       "3    05-Jan-17  26738.42  26917.21  26738.42  26878.24\n",
       "4    06-Jan-17  26929.69  27009.61  26733.33  26759.23"
      ]
     },
     "execution_count": 73,
     "metadata": {},
     "output_type": "execute_result"
    }
   ],
   "source": [
    "data1 = pd.read_csv(\"CSVForDate.csv\")\n",
    "data1.replace(np.nan, inplace = True)\n",
    "data1.head()"
   ]
  },
  {
   "cell_type": "code",
   "execution_count": 74,
   "metadata": {},
   "outputs": [
    {
     "data": {
      "text/html": [
       "<div>\n",
       "<style scoped>\n",
       "    .dataframe tbody tr th:only-of-type {\n",
       "        vertical-align: middle;\n",
       "    }\n",
       "\n",
       "    .dataframe tbody tr th {\n",
       "        vertical-align: top;\n",
       "    }\n",
       "\n",
       "    .dataframe thead th {\n",
       "        text-align: right;\n",
       "    }\n",
       "</style>\n",
       "<table border=\"1\" class=\"dataframe\">\n",
       "  <thead>\n",
       "    <tr style=\"text-align: right;\">\n",
       "      <th></th>\n",
       "      <th>publish_date</th>\n",
       "      <th>Close</th>\n",
       "    </tr>\n",
       "  </thead>\n",
       "  <tbody>\n",
       "    <tr>\n",
       "      <th>0</th>\n",
       "      <td>02-Jan-17</td>\n",
       "      <td>26595.45</td>\n",
       "    </tr>\n",
       "    <tr>\n",
       "      <th>1</th>\n",
       "      <td>03-Jan-17</td>\n",
       "      <td>26643.24</td>\n",
       "    </tr>\n",
       "    <tr>\n",
       "      <th>2</th>\n",
       "      <td>04-Jan-17</td>\n",
       "      <td>26633.13</td>\n",
       "    </tr>\n",
       "    <tr>\n",
       "      <th>3</th>\n",
       "      <td>05-Jan-17</td>\n",
       "      <td>26878.24</td>\n",
       "    </tr>\n",
       "    <tr>\n",
       "      <th>4</th>\n",
       "      <td>06-Jan-17</td>\n",
       "      <td>26759.23</td>\n",
       "    </tr>\n",
       "  </tbody>\n",
       "</table>\n",
       "</div>"
      ],
      "text/plain": [
       "  publish_date     Close\n",
       "0    02-Jan-17  26595.45\n",
       "1    03-Jan-17  26643.24\n",
       "2    04-Jan-17  26633.13\n",
       "3    05-Jan-17  26878.24\n",
       "4    06-Jan-17  26759.23"
      ]
     },
     "execution_count": 74,
     "metadata": {},
     "output_type": "execute_result"
    }
   ],
   "source": [
    "data1 = data1[[\"publish_date\",\"Close\"]]\n",
    "data1.head()"
   ]
  },
  {
   "cell_type": "code",
   "execution_count": 75,
   "metadata": {},
   "outputs": [
    {
     "name": "stdout",
     "output_type": "stream",
     "text": [
      "<class 'pandas.core.frame.DataFrame'>\n",
      "RangeIndex: 992 entries, 0 to 991\n",
      "Data columns (total 2 columns):\n",
      " #   Column        Non-Null Count  Dtype         \n",
      "---  ------        --------------  -----         \n",
      " 0   publish_date  992 non-null    datetime64[ns]\n",
      " 1   Close         992 non-null    float64       \n",
      "dtypes: datetime64[ns](1), float64(1)\n",
      "memory usage: 15.6 KB\n"
     ]
    }
   ],
   "source": [
    "data1['publish_date'] = pd.to_datetime(data1['publish_date'],format = \"%d-%m-%Y\",infer_datetime_format=True)\n",
    "data1.info()"
   ]
  },
  {
   "cell_type": "code",
   "execution_count": 76,
   "metadata": {},
   "outputs": [
    {
     "data": {
      "image/png": "[encoded data removed]",
      "text/plain": [
       "<Figure size 1008x504 with 1 Axes>"
      ]
     },
     "metadata": {
      "needs_background": "light"
     },
     "output_type": "display_data"
    }
   ],
   "source": [
    "plt.figure(figsize = (14,7))\n",
    "plt.plot(data1['Close'])\n",
    "plt.title('BSE SENSEX')\n",
    "plt.xticks(np.arange(0,1500,300),data1['publish_date'][0:1500:300])\n",
    "plt.show()"
   ]
  },
  {
   "cell_type": "markdown",
   "metadata": {},
   "source": [
    "# splitting data and again plotting train and test set"
   ]
  },
  {
   "cell_type": "code",
   "execution_count": 77,
   "metadata": {},
   "outputs": [
    {
     "name": "stdout",
     "output_type": "stream",
     "text": [
      "<class 'pandas.core.frame.DataFrame'>\n",
      "RangeIndex: 793 entries, 0 to 792\n",
      "Data columns (total 2 columns):\n",
      " #   Column        Non-Null Count  Dtype         \n",
      "---  ------        --------------  -----         \n",
      " 0   publish_date  793 non-null    datetime64[ns]\n",
      " 1   Close         793 non-null    float64       \n",
      "dtypes: datetime64[ns](1), float64(1)\n",
      "memory usage: 12.5 KB\n",
      "<class 'pandas.core.frame.DataFrame'>\n",
      "RangeIndex: 199 entries, 793 to 991\n",
      "Data columns (total 2 columns):\n",
      " #   Column        Non-Null Count  Dtype         \n",
      "---  ------        --------------  -----         \n",
      " 0   publish_date  199 non-null    datetime64[ns]\n",
      " 1   Close         199 non-null    float64       \n",
      "dtypes: datetime64[ns](1), float64(1)\n",
      "memory usage: 3.2 KB\n"
     ]
    }
   ],
   "source": [
    "train_data1,test_data1 = data1[:int(len(data1)*0.8)], data1[int(len(data1)*0.8):]\n",
    "train_data1.info()\n",
    "test_data1.info()"
   ]
  },
  {
   "cell_type": "code",
   "execution_count": 79,
   "metadata": {},
   "outputs": [
    {
     "data": {
      "text/plain": [
       "<matplotlib.legend.Legend at 0x23957329eb0>"
      ]
     },
     "execution_count": 79,
     "metadata": {},
     "output_type": "execute_result"
    },
    {
     "data": {
      "image/png": "[encoded data removed]",
      "text/plain": [
       "<Figure size 1008x504 with 1 Axes>"
      ]
     },
     "metadata": {
      "needs_background": "light"
     },
     "output_type": "display_data"
    }
   ],
   "source": [
    "plt.figure(figsize = (14,7))\n",
    "plt.title('BSE SENSEX')\n",
    "plt.xlabel('Dates')\n",
    "plt.ylabel('prices')\n",
    "plt.plot(data1['Close'],'blue', label='Training set')\n",
    "plt.plot(test_data1['Close'],'red', label='Test set')\n",
    "plt.xticks(np.arange(0,1500,300),data1['publish_date'][0:1500:300])\n",
    "plt.legend()"
   ]
  },
  {
   "cell_type": "markdown",
   "metadata": {},
   "source": [
    "# Building Arima Model for Forecasting"
   ]
  },
  {
   "cell_type": "code",
   "execution_count": 80,
   "metadata": {},
   "outputs": [
    {
     "name": "stdout",
     "output_type": "stream",
     "text": [
      "Sratistic: -1.4337083638434227\n",
      "p_value: 0.5660135225734986\n"
     ]
    }
   ],
   "source": [
    "#first checking the stationarity of the time series using ADF test\n",
    "from statsmodels.tsa.stattools import adfuller\n",
    "test_result = adfuller(data1.Close.dropna())\n",
    "print(f\"Sratistic: {test_result[0]}\")\n",
    "print(f\"p_value: {test_result[1]}\")"
   ]
  },
  {
   "cell_type": "code",
   "execution_count": 9,
   "metadata": {},
   "outputs": [
    {
     "name": "stdout",
     "output_type": "stream",
     "text": [
      "Performing stepwise search to minimize aic\n",
      " ARIMA(0,1,0)(0,0,0)[0] intercept   : AIC=11414.251, Time=1.88 sec\n",
      " ARIMA(1,1,0)(0,0,0)[0] intercept   : AIC=11416.208, Time=0.10 sec\n",
      " ARIMA(0,1,1)(0,0,0)[0] intercept   : AIC=11416.225, Time=0.10 sec\n",
      " ARIMA(0,1,0)(0,0,0)[0]             : AIC=11412.441, Time=0.02 sec\n",
      " ARIMA(1,1,1)(0,0,0)[0] intercept   : AIC=11412.383, Time=0.61 sec\n",
      " ARIMA(2,1,1)(0,0,0)[0] intercept   : AIC=11397.878, Time=0.21 sec\n",
      " ARIMA(2,1,0)(0,0,0)[0] intercept   : AIC=11396.511, Time=0.08 sec\n",
      " ARIMA(3,1,0)(0,0,0)[0] intercept   : AIC=11398.019, Time=0.25 sec\n",
      " ARIMA(3,1,1)(0,0,0)[0] intercept   : AIC=11399.877, Time=0.58 sec\n",
      " ARIMA(2,1,0)(0,0,0)[0]             : AIC=11394.568, Time=0.06 sec\n",
      " ARIMA(1,1,0)(0,0,0)[0]             : AIC=11414.392, Time=0.02 sec\n",
      " ARIMA(3,1,0)(0,0,0)[0]             : AIC=11396.088, Time=0.05 sec\n",
      " ARIMA(2,1,1)(0,0,0)[0]             : AIC=11395.946, Time=0.10 sec\n",
      " ARIMA(1,1,1)(0,0,0)[0]             : AIC=11410.576, Time=0.24 sec\n",
      " ARIMA(3,1,1)(0,0,0)[0]             : AIC=11397.944, Time=0.29 sec\n",
      "\n",
      "Best model:  ARIMA(2,1,0)(0,0,0)[0]          \n",
      "Total fit time: 4.727 seconds\n",
      "                               SARIMAX Results                                \n",
      "==============================================================================\n",
      "Dep. Variable:                      y   No. Observations:                  793\n",
      "Model:               SARIMAX(2, 1, 0)   Log Likelihood               -5694.284\n",
      "Date:                Wed, 15 Sep 2021   AIC                          11394.568\n",
      "Time:                        18:34:54   BIC                          11408.591\n",
      "Sample:                             0   HQIC                         11399.958\n",
      "                                - 793                                         \n",
      "Covariance Type:                  opg                                         \n",
      "==============================================================================\n",
      "                 coef    std err          z      P>|z|      [0.025      0.975]\n",
      "------------------------------------------------------------------------------\n",
      "ar.L1          0.0103      0.017      0.609      0.542      -0.023       0.043\n",
      "ar.L2          0.1660      0.017      9.987      0.000       0.133       0.199\n",
      "sigma2      1.029e+05   2590.585     39.725      0.000    9.78e+04    1.08e+05\n",
      "===================================================================================\n",
      "Ljung-Box (Q):                       52.74   Jarque-Bera (JB):              5032.31\n",
      "Prob(Q):                              0.09   Prob(JB):                         0.00\n",
      "Heteroskedasticity (H):               6.09   Skew:                            -1.10\n",
      "Prob(H) (two-sided):                  0.00   Kurtosis:                        15.15\n",
      "===================================================================================\n",
      "\n",
      "Warnings:\n",
      "[1] Covariance matrix calculated using the outer product of gradients (complex-step).\n"
     ]
    }
   ],
   "source": [
    "from pmdarima.arima import auto_arima\n",
    "model1 = auto_arima(train_data1['Close'],start_p=0, start_q=0,\n",
    "                   test =\"adf\",max_p=3,max_q=3, m=1,d=None, seasonal =False,\n",
    "                   D=0, trace =True,suppress_warnings=True, stepwise=True)\n",
    "print(model1.summary())"
   ]
  },
  {
   "cell_type": "code",
   "execution_count": 81,
   "metadata": {},
   "outputs": [
    {
     "name": "stdout",
     "output_type": "stream",
     "text": [
      "                             ARIMA Model Results                              \n",
      "==============================================================================\n",
      "Dep. Variable:                D.Close   No. Observations:                  792\n",
      "Model:                 ARIMA(2, 1, 0)   Log Likelihood               -5693.286\n",
      "Method:                       css-mle   S.D. of innovations            320.381\n",
      "Date:                Wed, 15 Sep 2021   AIC                          11394.572\n",
      "Time:                        21:10:32   BIC                          11413.270\n",
      "Sample:                             1   HQIC                         11401.758\n",
      "                                                                              \n",
      "=================================================================================\n",
      "                    coef    std err          z      P>|z|      [0.025      0.975]\n",
      "---------------------------------------------------------------------------------\n",
      "const             4.0234     14.054      0.286      0.775     -23.522      31.569\n",
      "ar.L1.D.Close     0.0101      0.035      0.287      0.774      -0.059       0.079\n",
      "ar.L2.D.Close     0.1802      0.037      4.900      0.000       0.108       0.252\n",
      "                                    Roots                                    \n",
      "=============================================================================\n",
      "                  Real          Imaginary           Modulus         Frequency\n",
      "-----------------------------------------------------------------------------\n",
      "AR.1            2.3279           +0.0000j            2.3279            0.0000\n",
      "AR.2           -2.3839           +0.0000j            2.3839            0.5000\n",
      "-----------------------------------------------------------------------------\n"
     ]
    }
   ],
   "source": [
    "model_1=ARIMA(train_data1[\"Close\"], order=(2,1,0))\n",
    "fited = model_1.fit(disp=-1)\n",
    "print(fited.summary())"
   ]
  },
  {
   "cell_type": "markdown",
   "metadata": {},
   "source": [
    "p value is > 0.05 so its not stationary"
   ]
  },
  {
   "cell_type": "code",
   "execution_count": 82,
   "metadata": {},
   "outputs": [
    {
     "name": "stdout",
     "output_type": "stream",
     "text": [
      "1\n"
     ]
    }
   ],
   "source": [
    "#So if time series is not stationary we need to differentiate it\n",
    "\n",
    "from pmdarima.arima.utils import ndiffs\n",
    "d = ndiffs(data1.Close, test=\"adf\")\n",
    "print(d)"
   ]
  },
  {
   "cell_type": "code",
   "execution_count": 12,
   "metadata": {},
   "outputs": [
    {
     "data": {
      "image/png": "[encoded data removed]",
      "text/plain": [
       "<Figure size 1152x288 with 2 Axes>"
      ]
     },
     "execution_count": 12,
     "metadata": {},
     "output_type": "execute_result"
    },
    {
     "data": {
      "image/png": "[encoded data removed]",
      "text/plain": [
       "<Figure size 1152x288 with 2 Axes>"
      ]
     },
     "metadata": {
      "needs_background": "light"
     },
     "output_type": "display_data"
    }
   ],
   "source": [
    "# d value is 1\n",
    "# to find p value we use partial auto corelation plot PAFC\n",
    "\n",
    "from statsmodels.graphics.tsaplots import plot_acf, plot_pacf\n",
    "d1 = data1.Close.diff().dropna()\n",
    "fig, (plot1,plot2) = plt.subplots(1,2, figsize = (16,4))\n",
    "plot1.plot(d1)\n",
    "plot1.set_title(\"first differential\")\n",
    "plot2.set_ylim(0,1)\n",
    "plot_pacf(d1, ax=plot2)"
   ]
  },
  {
   "cell_type": "code",
   "execution_count": 83,
   "metadata": {},
   "outputs": [
    {
     "data": {
      "image/png": "[encoded data removed]",
      "text/plain": [
       "<Figure size 1152x288 with 2 Axes>"
      ]
     },
     "execution_count": 83,
     "metadata": {},
     "output_type": "execute_result"
    },
    {
     "data": {
      "image/png": "[encoded data removed]",
      "text/plain": [
       "<Figure size 1152x288 with 2 Axes>"
      ]
     },
     "metadata": {
      "needs_background": "light"
     },
     "output_type": "display_data"
    }
   ],
   "source": [
    "#from above graphs we can see that p value is 2\n",
    "d2 = data1.Close.diff().dropna()\n",
    "fig, (plot1,plot2) = plt.subplots(1,2, figsize = (16,4))\n",
    "plot1.plot(d2)\n",
    "plot1.set_title(\"first differential\")\n",
    "plot2.set_ylim(0,1)\n",
    "plot_acf(d2, ax=plot2)"
   ]
  },
  {
   "cell_type": "code",
   "execution_count": 14,
   "metadata": {},
   "outputs": [
    {
     "data": {
      "image/png": "[encoded data removed]",
      "text/plain": [
       "<Figure size 432x288 with 1 Axes>"
      ]
     },
     "metadata": {
      "needs_background": "light"
     },
     "output_type": "display_data"
    }
   ],
   "source": [
    "dataset = data1[['Close']]\n",
    "from matplotlib import pyplot\n",
    "pyplot.figure()\n",
    "pyplot.subplot(211)\n",
    "plot_acf(dataset, ax=pyplot.gca() , lags=10)\n",
    "\n",
    "pyplot.show()"
   ]
  },
  {
   "cell_type": "code",
   "execution_count": 84,
   "metadata": {},
   "outputs": [
    {
     "data": {
      "image/png": "[encoded data removed]",
      "text/plain": [
       "<Figure size 432x288 with 1 Axes>"
      ]
     },
     "execution_count": 84,
     "metadata": {},
     "output_type": "execute_result"
    },
    {
     "data": {
      "image/png": "[encoded data removed]",
      "text/plain": [
       "<Figure size 432x288 with 1 Axes>"
      ]
     },
     "metadata": {
      "needs_background": "light"
     },
     "output_type": "display_data"
    }
   ],
   "source": [
    "pyplot.subplot(211)\n",
    "plot_pacf(dataset, ax=pyplot.gca() , lags=10)"
   ]
  },
  {
   "cell_type": "code",
   "execution_count": 85,
   "metadata": {},
   "outputs": [
    {
     "name": "stdout",
     "output_type": "stream",
     "text": [
      "<class 'list'>\n",
      "Testing Mean Squared Error: 414566.416\n"
     ]
    }
   ],
   "source": [
    "# hence q value is also 2\n",
    "train = train_data1['Close'].values\n",
    "test = test_data1['Close'].values\n",
    "history = [x for x in train]\n",
    "print(type(history))\n",
    "predictions = list()\n",
    "for t in range(len(test)):\n",
    "    model = ARIMA(history, order=(2,1,0))\n",
    "    model_fit = model.fit(disp=0)\n",
    "    output = model_fit.forecast()\n",
    "    yhat = output[0]\n",
    "    predictions.append(yhat)\n",
    "    obs = test[t]\n",
    "    history.append(obs)\n",
    "error = mean_squared_error(test, predictions)\n",
    "print('Testing Mean Squared Error: %.3f' % error)"
   ]
  },
  {
   "cell_type": "code",
   "execution_count": 17,
   "metadata": {},
   "outputs": [
    {
     "name": "stdout",
     "output_type": "stream",
     "text": [
      "[array([30085.19793338]), array([28655.67800976]), array([27890.85107073]), array([29839.79247877]), array([26534.98085335]), array([25793.40387641]), array([28526.83758762]), array([30146.28504648]), array([29987.52542996]), array([28465.4165166]), array([29301.04819362]), array([28434.70528042]), array([27496.95408224]), array([29886.37068566]), array([30088.67164463]), array([31079.1418171]), array([30842.94417649]), array([30359.57480072]), array([30566.71203091]), array([31558.44649155]), array([31736.78174841]), array([30703.60281411]), array([31259.70898754]), array([31895.8245133]), array([31399.88785753]), array([31684.85161373]), array([32127.45649816]), array([32718.13815749]), array([33717.02405933]), array([31927.8228178]), array([31352.61207645]), array([31662.14544372]), array([31478.31622789]), array([31621.97091724]), array([31584.03604557]), array([31384.7292823]), array([31962.18370176]), array([31227.25526567]), array([31054.46951844]), array([30104.91862051]), array([30120.77490071]), array([30790.53853088]), array([30966.73772663]), array([30701.91820675]), array([30603.6511093]), array([31538.98320063]), array([32223.86837357]), array([32450.59142784]), array([33270.67004155]), array([33857.77650088]), array([34135.11364749]), array([34014.56468951]), array([34270.48968373]), array([34394.21676556]), array([33994.45285588]), array([34213.36761532]), array([33607.51138128]), array([33728.95162292]), array([33286.65573791]), array([33552.67392824]), array([33547.48623418]), array([34166.00208182]), array([34757.84588913]), array([34946.76647124]), array([35422.82013833]), array([34949.58256314]), array([34813.69978076]), array([35159.28681842]), array([35006.72198897]), array([34913.77140448]), array([35390.87723945]), array([35862.47123323]), array([36051.05971784]), array([36483.61088088]), array([36707.79599416]), array([36373.28045583]), array([36701.012007]), array([36642.68167031]), array([36689.25944983]), array([36090.58014342]), array([36014.9496601]), array([36458.90564824]), array([37028.46856733]), array([37446.53494841]), array([37943.08161888]), array([37923.85996532]), array([38134.13428599]), array([38161.79110069]), array([37957.45194712]), array([38460.73999316]), array([38148.62188233]), array([37737.92478803]), array([37602.75528032]), array([36979.06740218]), array([37608.15481651]), array([37730.4732012]), array([38014.98560626]), array([38078.71118096]), array([38187.67871568]), array([38417.19299547]), array([38401.24940667]), array([38324.18010203]), array([37910.82767543]), array([38021.55359536]), array([38525.89281982]), array([38657.15246651]), array([38262.33920623]), array([38407.42892525]), array([38805.96667861]), array([38879.90114387]), array([39077.28478677]), array([39140.88390574]), array([39463.54122547]), array([38716.67798122]), array([38838.61190719]), array([39107.15720641]), array([39022.99590755]), array([38401.98681672]), array([38383.46495344]), array([38385.40141014]), array([38213.41416125]), array([38802.3890774]), array([38910.65569811]), array([38776.79225681]), array([39033.65471538]), array([39320.04449422]), array([39030.20810394]), array([38846.04740802]), array([38086.29962422]), array([37708.23575574]), array([37663.63908345]), array([36623.61912101]), array([37269.50633025]), array([38012.66928709]), array([38024.24635112]), array([38074.03592606]), array([38678.73355507]), array([39011.70580519]), array([39572.65972119]), array([39916.85172763]), array([40201.21819612]), array([40527.41735066]), array([40626.7332968]), array([40644.43284233]), array([40802.65614799]), array([39813.36472082]), array([39908.21378066]), array([40437.76442317]), array([40582.45714979]), array([40720.55456798]), array([40592.32315479]), array([40683.25582977]), array([40198.71141723]), array([40478.67547292]), array([39997.70900394]), array([39732.39998589]), array([39623.5408014]), array([39753.63295656]), array([40256.27621734]), array([40645.42987989]), array([41341.12404601]), array([41932.57677613]), array([42620.76277953]), array([43317.97817487]), array([43650.57864311]), array([43409.68553308]), array([43437.59127173]), array([43652.91006463]), array([43971.06675538]), array([44212.0993822]), array([43661.31021044]), array([43841.55288016]), array([44107.26097226]), array([44535.56451872]), array([43912.76713258]), array([44202.51048627]), array([44206.21596422]), array([44639.6712805]), array([44677.69975807]), array([44647.03704976]), array([45076.83619703]), array([45463.69762772]), array([45645.94820989]), array([46113.47676716]), array([46025.46210306]), array([46100.1326913]), array([46276.49252626]), array([46294.44736032]), array([46667.45895812]), array([46931.83422402]), array([46995.28355095]), array([45646.51853148]), array([45892.63377979]), array([46474.92676574]), array([47000.30803282]), array([47395.97742495]), array([47650.44344029]), array([47780.51312177]), array([47782.01691012])]\n"
     ]
    }
   ],
   "source": [
    "print(predictions)"
   ]
  },
  {
   "cell_type": "code",
   "execution_count": 86,
   "metadata": {},
   "outputs": [
    {
     "name": "stdout",
     "output_type": "stream",
     "text": [
      "643.8683218428108\n"
     ]
    }
   ],
   "source": [
    "from math import sqrt\n",
    "rmse = sqrt(error)\n",
    "print(rmse)"
   ]
  },
  {
   "cell_type": "code",
   "execution_count": 88,
   "metadata": {},
   "outputs": [
    {
     "data": {
      "text/plain": [
       "<matplotlib.legend.Legend at 0x23954c0cd90>"
      ]
     },
     "execution_count": 88,
     "metadata": {},
     "output_type": "execute_result"
    },
    {
     "data": {
      "image/png": "[encoded data removed]",
      "text/plain": [
       "<Figure size 1008x504 with 1 Axes>"
      ]
     },
     "metadata": {
      "needs_background": "light"
     },
     "output_type": "display_data"
    }
   ],
   "source": [
    "plt.figure(figsize=(14,7))\n",
    "plt.plot(data1['Close'], 'green', color='blue', label ='training set')\n",
    "plt.plot(test_data1.index, predictions, color='green', marker='o', label='predicted price', linestyle='dashed')\n",
    "plt.plot(test_data1.index, test_data1['Close'], color='red',label='predicted price')\n",
    "plt.title(\"BSE price prediction\")\n",
    "plt.xlabel(\"dates\")\n",
    "plt.ylabel(\"prices\")\n",
    "plt.xticks(np.arange(0,1500,300),data1['publish_date'][0:1500:300])\n",
    "plt.legend()"
   ]
  },
  {
   "cell_type": "markdown",
   "metadata": {},
   "source": [
    "# Sentiment Analysis\n"
   ]
  },
  {
   "cell_type": "code",
   "execution_count": 98,
   "metadata": {},
   "outputs": [],
   "source": [
    "#import libraries and dataset\n",
    "\n",
    "import pandas as pd\n",
    "import numpy as np\n",
    "%matplotlib inline\n",
    "import nltk\n",
    "from nltk.sentiment.vader import SentimentIntensityAnalyzer\n",
    "analyze = SentimentIntensityAnalyzer()"
   ]
  },
  {
   "cell_type": "code",
   "execution_count": 99,
   "metadata": {},
   "outputs": [
    {
     "data": {
      "text/html": [
       "<div>\n",
       "<style scoped>\n",
       "    .dataframe tbody tr th:only-of-type {\n",
       "        vertical-align: middle;\n",
       "    }\n",
       "\n",
       "    .dataframe tbody tr th {\n",
       "        vertical-align: top;\n",
       "    }\n",
       "\n",
       "    .dataframe thead th {\n",
       "        text-align: right;\n",
       "    }\n",
       "</style>\n",
       "<table border=\"1\" class=\"dataframe\">\n",
       "  <thead>\n",
       "    <tr style=\"text-align: right;\">\n",
       "      <th></th>\n",
       "      <th>publish_date</th>\n",
       "      <th>headline_category</th>\n",
       "      <th>headline_text</th>\n",
       "    </tr>\n",
       "  </thead>\n",
       "  <tbody>\n",
       "    <tr>\n",
       "      <th>0</th>\n",
       "      <td>20010102</td>\n",
       "      <td>unknown</td>\n",
       "      <td>Status quo will not be disturbed at Ayodhya; s...</td>\n",
       "    </tr>\n",
       "    <tr>\n",
       "      <th>1</th>\n",
       "      <td>20010102</td>\n",
       "      <td>unknown</td>\n",
       "      <td>Fissures in Hurriyat over Pak visit</td>\n",
       "    </tr>\n",
       "    <tr>\n",
       "      <th>2</th>\n",
       "      <td>20010102</td>\n",
       "      <td>unknown</td>\n",
       "      <td>America's unwanted heading for India?</td>\n",
       "    </tr>\n",
       "    <tr>\n",
       "      <th>3</th>\n",
       "      <td>20010102</td>\n",
       "      <td>unknown</td>\n",
       "      <td>For bigwigs; it is destination Goa</td>\n",
       "    </tr>\n",
       "    <tr>\n",
       "      <th>4</th>\n",
       "      <td>20010102</td>\n",
       "      <td>unknown</td>\n",
       "      <td>Extra buses to clear tourist traffic</td>\n",
       "    </tr>\n",
       "  </tbody>\n",
       "</table>\n",
       "</div>"
      ],
      "text/plain": [
       "   publish_date headline_category  \\\n",
       "0      20010102           unknown   \n",
       "1      20010102           unknown   \n",
       "2      20010102           unknown   \n",
       "3      20010102           unknown   \n",
       "4      20010102           unknown   \n",
       "\n",
       "                                       headline_text  \n",
       "0  Status quo will not be disturbed at Ayodhya; s...  \n",
       "1                Fissures in Hurriyat over Pak visit  \n",
       "2              America's unwanted heading for India?  \n",
       "3                 For bigwigs; it is destination Goa  \n",
       "4               Extra buses to clear tourist traffic  "
      ]
     },
     "execution_count": 99,
     "metadata": {},
     "output_type": "execute_result"
    }
   ],
   "source": [
    "news = pd.read_csv(r'C:\\Users\\ABHIGYAN\\Desktop\\sparks foundation\\india-news-headlines.csv')\n",
    "news.dropna(inplace = True)\n",
    "news.head()"
   ]
  },
  {
   "cell_type": "code",
   "execution_count": 100,
   "metadata": {},
   "outputs": [
    {
     "data": {
      "text/html": [
       "<div>\n",
       "<style scoped>\n",
       "    .dataframe tbody tr th:only-of-type {\n",
       "        vertical-align: middle;\n",
       "    }\n",
       "\n",
       "    .dataframe tbody tr th {\n",
       "        vertical-align: top;\n",
       "    }\n",
       "\n",
       "    .dataframe thead th {\n",
       "        text-align: right;\n",
       "    }\n",
       "</style>\n",
       "<table border=\"1\" class=\"dataframe\">\n",
       "  <thead>\n",
       "    <tr style=\"text-align: right;\">\n",
       "      <th></th>\n",
       "      <th>publish_date</th>\n",
       "      <th>headline_category</th>\n",
       "      <th>headline_text</th>\n",
       "    </tr>\n",
       "  </thead>\n",
       "  <tbody>\n",
       "    <tr>\n",
       "      <th>3424062</th>\n",
       "      <td>20201231</td>\n",
       "      <td>city.jodhpur</td>\n",
       "      <td>Covid-19: Despite dip in cases; Rajasthan amon...</td>\n",
       "    </tr>\n",
       "    <tr>\n",
       "      <th>3424063</th>\n",
       "      <td>20201231</td>\n",
       "      <td>city.udaipur</td>\n",
       "      <td>Covid-19: Despite dip in cases; Rajasthan amon...</td>\n",
       "    </tr>\n",
       "    <tr>\n",
       "      <th>3424064</th>\n",
       "      <td>20201231</td>\n",
       "      <td>city.ajmer</td>\n",
       "      <td>Covid-19: Despite dip in cases; Rajasthan amon...</td>\n",
       "    </tr>\n",
       "    <tr>\n",
       "      <th>3424065</th>\n",
       "      <td>20201231</td>\n",
       "      <td>removed</td>\n",
       "      <td>Govt extends deadline for use of FASTag till F...</td>\n",
       "    </tr>\n",
       "    <tr>\n",
       "      <th>3424066</th>\n",
       "      <td>20201231</td>\n",
       "      <td>entertainment.bengali.movies.news</td>\n",
       "      <td>Celebs plan to party safely and responsibly on...</td>\n",
       "    </tr>\n",
       "  </tbody>\n",
       "</table>\n",
       "</div>"
      ],
      "text/plain": [
       "         publish_date                  headline_category  \\\n",
       "3424062      20201231                       city.jodhpur   \n",
       "3424063      20201231                       city.udaipur   \n",
       "3424064      20201231                         city.ajmer   \n",
       "3424065      20201231                            removed   \n",
       "3424066      20201231  entertainment.bengali.movies.news   \n",
       "\n",
       "                                             headline_text  \n",
       "3424062  Covid-19: Despite dip in cases; Rajasthan amon...  \n",
       "3424063  Covid-19: Despite dip in cases; Rajasthan amon...  \n",
       "3424064  Covid-19: Despite dip in cases; Rajasthan amon...  \n",
       "3424065  Govt extends deadline for use of FASTag till F...  \n",
       "3424066  Celebs plan to party safely and responsibly on...  "
      ]
     },
     "execution_count": 100,
     "metadata": {},
     "output_type": "execute_result"
    }
   ],
   "source": [
    "news.tail()"
   ]
  },
  {
   "cell_type": "code",
   "execution_count": 101,
   "metadata": {},
   "outputs": [
    {
     "name": "stdout",
     "output_type": "stream",
     "text": [
      "<class 'pandas.core.frame.DataFrame'>\n",
      "Int64Index: 3424067 entries, 0 to 3424066\n",
      "Data columns (total 3 columns):\n",
      " #   Column             Dtype         \n",
      "---  ------             -----         \n",
      " 0   publish_date       datetime64[ns]\n",
      " 1   headline_category  object        \n",
      " 2   headline_text      object        \n",
      "dtypes: datetime64[ns](1), object(2)\n",
      "memory usage: 104.5+ MB\n"
     ]
    }
   ],
   "source": [
    "news[\"publish_date\"] = pd.to_datetime(news[\"publish_date\"], format = '%Y%m%d')\n",
    "news.info()"
   ]
  },
  {
   "cell_type": "code",
   "execution_count": 102,
   "metadata": {},
   "outputs": [
    {
     "data": {
      "text/html": [
       "<div>\n",
       "<style scoped>\n",
       "    .dataframe tbody tr th:only-of-type {\n",
       "        vertical-align: middle;\n",
       "    }\n",
       "\n",
       "    .dataframe tbody tr th {\n",
       "        vertical-align: top;\n",
       "    }\n",
       "\n",
       "    .dataframe thead th {\n",
       "        text-align: right;\n",
       "    }\n",
       "</style>\n",
       "<table border=\"1\" class=\"dataframe\">\n",
       "  <thead>\n",
       "    <tr style=\"text-align: right;\">\n",
       "      <th></th>\n",
       "      <th>publish_date</th>\n",
       "      <th>headline_category</th>\n",
       "      <th>headline_text</th>\n",
       "    </tr>\n",
       "  </thead>\n",
       "  <tbody>\n",
       "    <tr>\n",
       "      <th>0</th>\n",
       "      <td>2001-01-02</td>\n",
       "      <td>unknown</td>\n",
       "      <td>Status quo will not be disturbed at Ayodhya; s...</td>\n",
       "    </tr>\n",
       "    <tr>\n",
       "      <th>1</th>\n",
       "      <td>2001-01-03</td>\n",
       "      <td>unknown</td>\n",
       "      <td>Powerless north India gropes in the dark</td>\n",
       "    </tr>\n",
       "    <tr>\n",
       "      <th>2</th>\n",
       "      <td>2001-01-04</td>\n",
       "      <td>unknown</td>\n",
       "      <td>The string that pulled Stephen Hawking to India</td>\n",
       "    </tr>\n",
       "    <tr>\n",
       "      <th>3</th>\n",
       "      <td>2001-01-05</td>\n",
       "      <td>unknown</td>\n",
       "      <td>Light combat craft takes India into club class</td>\n",
       "    </tr>\n",
       "    <tr>\n",
       "      <th>4</th>\n",
       "      <td>2001-01-06</td>\n",
       "      <td>unknown</td>\n",
       "      <td>Light combat craft takes India into club class</td>\n",
       "    </tr>\n",
       "    <tr>\n",
       "      <th>...</th>\n",
       "      <td>...</td>\n",
       "      <td>...</td>\n",
       "      <td>...</td>\n",
       "    </tr>\n",
       "    <tr>\n",
       "      <th>7257</th>\n",
       "      <td>2020-12-27</td>\n",
       "      <td>entertainment.bengali.movies.news</td>\n",
       "      <td>#BigInterview! Dhritiman Chatterjee: Nobody da...</td>\n",
       "    </tr>\n",
       "    <tr>\n",
       "      <th>7258</th>\n",
       "      <td>2020-12-28</td>\n",
       "      <td>astrology.horoscope</td>\n",
       "      <td>Horoscope Today; 28 December 2020: Check astro...</td>\n",
       "    </tr>\n",
       "    <tr>\n",
       "      <th>7259</th>\n",
       "      <td>2020-12-29</td>\n",
       "      <td>city.bareilly</td>\n",
       "      <td>Man recovers charred remains of 'thief' from h...</td>\n",
       "    </tr>\n",
       "    <tr>\n",
       "      <th>7260</th>\n",
       "      <td>2020-12-30</td>\n",
       "      <td>astrology.numerology-tarot</td>\n",
       "      <td>Numerology Readings 30 December 2020: Predicti...</td>\n",
       "    </tr>\n",
       "    <tr>\n",
       "      <th>7261</th>\n",
       "      <td>2020-12-31</td>\n",
       "      <td>astrology.horoscope</td>\n",
       "      <td>Horoscope Today; 31 December 2020: Check astro...</td>\n",
       "    </tr>\n",
       "  </tbody>\n",
       "</table>\n",
       "<p>7262 rows × 3 columns</p>\n",
       "</div>"
      ],
      "text/plain": [
       "     publish_date                  headline_category  \\\n",
       "0      2001-01-02                            unknown   \n",
       "1      2001-01-03                            unknown   \n",
       "2      2001-01-04                            unknown   \n",
       "3      2001-01-05                            unknown   \n",
       "4      2001-01-06                            unknown   \n",
       "...           ...                                ...   \n",
       "7257   2020-12-27  entertainment.bengali.movies.news   \n",
       "7258   2020-12-28                astrology.horoscope   \n",
       "7259   2020-12-29                      city.bareilly   \n",
       "7260   2020-12-30         astrology.numerology-tarot   \n",
       "7261   2020-12-31                astrology.horoscope   \n",
       "\n",
       "                                          headline_text  \n",
       "0     Status quo will not be disturbed at Ayodhya; s...  \n",
       "1              Powerless north India gropes in the dark  \n",
       "2       The string that pulled Stephen Hawking to India  \n",
       "3        Light combat craft takes India into club class  \n",
       "4        Light combat craft takes India into club class  \n",
       "...                                                 ...  \n",
       "7257  #BigInterview! Dhritiman Chatterjee: Nobody da...  \n",
       "7258  Horoscope Today; 28 December 2020: Check astro...  \n",
       "7259  Man recovers charred remains of 'thief' from h...  \n",
       "7260  Numerology Readings 30 December 2020: Predicti...  \n",
       "7261  Horoscope Today; 31 December 2020: Check astro...  \n",
       "\n",
       "[7262 rows x 3 columns]"
      ]
     },
     "execution_count": 102,
     "metadata": {},
     "output_type": "execute_result"
    }
   ],
   "source": [
    "news = news.drop_duplicates(subset = \"publish_date\", keep = 'first', inplace = False)\n",
    "news.reset_index(inplace=True, drop = True)\n",
    "news"
   ]
  },
  {
   "cell_type": "code",
   "execution_count": 103,
   "metadata": {},
   "outputs": [
    {
     "data": {
      "text/html": [
       "<div>\n",
       "<style scoped>\n",
       "    .dataframe tbody tr th:only-of-type {\n",
       "        vertical-align: middle;\n",
       "    }\n",
       "\n",
       "    .dataframe tbody tr th {\n",
       "        vertical-align: top;\n",
       "    }\n",
       "\n",
       "    .dataframe thead th {\n",
       "        text-align: right;\n",
       "    }\n",
       "</style>\n",
       "<table border=\"1\" class=\"dataframe\">\n",
       "  <thead>\n",
       "    <tr style=\"text-align: right;\">\n",
       "      <th></th>\n",
       "      <th>publish_date</th>\n",
       "      <th>headline_text</th>\n",
       "    </tr>\n",
       "  </thead>\n",
       "  <tbody>\n",
       "    <tr>\n",
       "      <th>0</th>\n",
       "      <td>2001-01-02</td>\n",
       "      <td>Status quo will not be disturbed at Ayodhya; s...</td>\n",
       "    </tr>\n",
       "    <tr>\n",
       "      <th>1</th>\n",
       "      <td>2001-01-03</td>\n",
       "      <td>Powerless north India gropes in the dark</td>\n",
       "    </tr>\n",
       "    <tr>\n",
       "      <th>2</th>\n",
       "      <td>2001-01-04</td>\n",
       "      <td>The string that pulled Stephen Hawking to India</td>\n",
       "    </tr>\n",
       "    <tr>\n",
       "      <th>3</th>\n",
       "      <td>2001-01-05</td>\n",
       "      <td>Light combat craft takes India into club class</td>\n",
       "    </tr>\n",
       "    <tr>\n",
       "      <th>4</th>\n",
       "      <td>2001-01-06</td>\n",
       "      <td>Light combat craft takes India into club class</td>\n",
       "    </tr>\n",
       "    <tr>\n",
       "      <th>...</th>\n",
       "      <td>...</td>\n",
       "      <td>...</td>\n",
       "    </tr>\n",
       "    <tr>\n",
       "      <th>7257</th>\n",
       "      <td>2020-12-27</td>\n",
       "      <td>#BigInterview! Dhritiman Chatterjee: Nobody da...</td>\n",
       "    </tr>\n",
       "    <tr>\n",
       "      <th>7258</th>\n",
       "      <td>2020-12-28</td>\n",
       "      <td>Horoscope Today; 28 December 2020: Check astro...</td>\n",
       "    </tr>\n",
       "    <tr>\n",
       "      <th>7259</th>\n",
       "      <td>2020-12-29</td>\n",
       "      <td>Man recovers charred remains of 'thief' from h...</td>\n",
       "    </tr>\n",
       "    <tr>\n",
       "      <th>7260</th>\n",
       "      <td>2020-12-30</td>\n",
       "      <td>Numerology Readings 30 December 2020: Predicti...</td>\n",
       "    </tr>\n",
       "    <tr>\n",
       "      <th>7261</th>\n",
       "      <td>2020-12-31</td>\n",
       "      <td>Horoscope Today; 31 December 2020: Check astro...</td>\n",
       "    </tr>\n",
       "  </tbody>\n",
       "</table>\n",
       "<p>7262 rows × 2 columns</p>\n",
       "</div>"
      ],
      "text/plain": [
       "     publish_date                                      headline_text\n",
       "0      2001-01-02  Status quo will not be disturbed at Ayodhya; s...\n",
       "1      2001-01-03           Powerless north India gropes in the dark\n",
       "2      2001-01-04    The string that pulled Stephen Hawking to India\n",
       "3      2001-01-05     Light combat craft takes India into club class\n",
       "4      2001-01-06     Light combat craft takes India into club class\n",
       "...           ...                                                ...\n",
       "7257   2020-12-27  #BigInterview! Dhritiman Chatterjee: Nobody da...\n",
       "7258   2020-12-28  Horoscope Today; 28 December 2020: Check astro...\n",
       "7259   2020-12-29  Man recovers charred remains of 'thief' from h...\n",
       "7260   2020-12-30  Numerology Readings 30 December 2020: Predicti...\n",
       "7261   2020-12-31  Horoscope Today; 31 December 2020: Check astro...\n",
       "\n",
       "[7262 rows x 2 columns]"
      ]
     },
     "execution_count": 103,
     "metadata": {},
     "output_type": "execute_result"
    }
   ],
   "source": [
    "news.drop('headline_category', axis = 'columns', inplace = True)\n",
    "news"
   ]
  },
  {
   "cell_type": "code",
   "execution_count": 104,
   "metadata": {},
   "outputs": [
    {
     "data": {
      "text/plain": [
       "7262"
      ]
     },
     "execution_count": 104,
     "metadata": {},
     "output_type": "execute_result"
    }
   ],
   "source": [
    "#now we need to calculate the score of each day headlines\n",
    "\n",
    "i =0\n",
    "score = []\n",
    "while i<len(news):\n",
    "    n = analyze.polarity_scores(news.iloc[i]['headline_text'])\n",
    "    score.append(n['compound'])\n",
    "    i=i+1\n",
    "    \n",
    "score = np.array(score)\n",
    "len(score)"
   ]
  },
  {
   "cell_type": "code",
   "execution_count": 105,
   "metadata": {},
   "outputs": [
    {
     "data": {
      "text/html": [
       "<div>\n",
       "<style scoped>\n",
       "    .dataframe tbody tr th:only-of-type {\n",
       "        vertical-align: middle;\n",
       "    }\n",
       "\n",
       "    .dataframe tbody tr th {\n",
       "        vertical-align: top;\n",
       "    }\n",
       "\n",
       "    .dataframe thead th {\n",
       "        text-align: right;\n",
       "    }\n",
       "</style>\n",
       "<table border=\"1\" class=\"dataframe\">\n",
       "  <thead>\n",
       "    <tr style=\"text-align: right;\">\n",
       "      <th></th>\n",
       "      <th>publish_date</th>\n",
       "      <th>headline_text</th>\n",
       "      <th>Score</th>\n",
       "    </tr>\n",
       "  </thead>\n",
       "  <tbody>\n",
       "    <tr>\n",
       "      <th>0</th>\n",
       "      <td>2001-01-02</td>\n",
       "      <td>Status quo will not be disturbed at Ayodhya; s...</td>\n",
       "      <td>0.2924</td>\n",
       "    </tr>\n",
       "    <tr>\n",
       "      <th>1</th>\n",
       "      <td>2001-01-03</td>\n",
       "      <td>Powerless north India gropes in the dark</td>\n",
       "      <td>-0.4939</td>\n",
       "    </tr>\n",
       "    <tr>\n",
       "      <th>2</th>\n",
       "      <td>2001-01-04</td>\n",
       "      <td>The string that pulled Stephen Hawking to India</td>\n",
       "      <td>0.0000</td>\n",
       "    </tr>\n",
       "    <tr>\n",
       "      <th>3</th>\n",
       "      <td>2001-01-05</td>\n",
       "      <td>Light combat craft takes India into club class</td>\n",
       "      <td>-0.3400</td>\n",
       "    </tr>\n",
       "    <tr>\n",
       "      <th>4</th>\n",
       "      <td>2001-01-06</td>\n",
       "      <td>Light combat craft takes India into club class</td>\n",
       "      <td>-0.3400</td>\n",
       "    </tr>\n",
       "  </tbody>\n",
       "</table>\n",
       "</div>"
      ],
      "text/plain": [
       "  publish_date                                      headline_text   Score\n",
       "0   2001-01-02  Status quo will not be disturbed at Ayodhya; s...  0.2924\n",
       "1   2001-01-03           Powerless north India gropes in the dark -0.4939\n",
       "2   2001-01-04    The string that pulled Stephen Hawking to India  0.0000\n",
       "3   2001-01-05     Light combat craft takes India into club class -0.3400\n",
       "4   2001-01-06     Light combat craft takes India into club class -0.3400"
      ]
     },
     "execution_count": 105,
     "metadata": {},
     "output_type": "execute_result"
    }
   ],
   "source": [
    "news['Score'] = score\n",
    "news.head()"
   ]
  },
  {
   "cell_type": "code",
   "execution_count": 106,
   "metadata": {},
   "outputs": [],
   "source": [
    "i =0\n",
    "sentiment = []\n",
    "while i<len(news):\n",
    "    if(news.iloc[i]['Score']>=0.1):\n",
    "        sentiment.append('positive')\n",
    "        i=i+1\n",
    "    elif(news.iloc[i]['Score']>-0.1) & (news.iloc[i]['Score']<0.1):\n",
    "        sentiment.append('neutral')\n",
    "        i=i+1\n",
    "    elif(news.iloc[i]['Score']<-0.1):\n",
    "        sentiment.append('negative')\n",
    "        i=i+1"
   ]
  },
  {
   "cell_type": "code",
   "execution_count": 107,
   "metadata": {},
   "outputs": [
    {
     "data": {
      "text/html": [
       "<div>\n",
       "<style scoped>\n",
       "    .dataframe tbody tr th:only-of-type {\n",
       "        vertical-align: middle;\n",
       "    }\n",
       "\n",
       "    .dataframe tbody tr th {\n",
       "        vertical-align: top;\n",
       "    }\n",
       "\n",
       "    .dataframe thead th {\n",
       "        text-align: right;\n",
       "    }\n",
       "</style>\n",
       "<table border=\"1\" class=\"dataframe\">\n",
       "  <thead>\n",
       "    <tr style=\"text-align: right;\">\n",
       "      <th></th>\n",
       "      <th>publish_date</th>\n",
       "      <th>headline_text</th>\n",
       "      <th>Score</th>\n",
       "      <th>sentiment_report</th>\n",
       "    </tr>\n",
       "  </thead>\n",
       "  <tbody>\n",
       "    <tr>\n",
       "      <th>0</th>\n",
       "      <td>2001-01-02</td>\n",
       "      <td>Status quo will not be disturbed at Ayodhya; s...</td>\n",
       "      <td>0.2924</td>\n",
       "      <td>positive</td>\n",
       "    </tr>\n",
       "    <tr>\n",
       "      <th>1</th>\n",
       "      <td>2001-01-03</td>\n",
       "      <td>Powerless north India gropes in the dark</td>\n",
       "      <td>-0.4939</td>\n",
       "      <td>negative</td>\n",
       "    </tr>\n",
       "    <tr>\n",
       "      <th>2</th>\n",
       "      <td>2001-01-04</td>\n",
       "      <td>The string that pulled Stephen Hawking to India</td>\n",
       "      <td>0.0000</td>\n",
       "      <td>neutral</td>\n",
       "    </tr>\n",
       "    <tr>\n",
       "      <th>3</th>\n",
       "      <td>2001-01-05</td>\n",
       "      <td>Light combat craft takes India into club class</td>\n",
       "      <td>-0.3400</td>\n",
       "      <td>negative</td>\n",
       "    </tr>\n",
       "    <tr>\n",
       "      <th>4</th>\n",
       "      <td>2001-01-06</td>\n",
       "      <td>Light combat craft takes India into club class</td>\n",
       "      <td>-0.3400</td>\n",
       "      <td>negative</td>\n",
       "    </tr>\n",
       "  </tbody>\n",
       "</table>\n",
       "</div>"
      ],
      "text/plain": [
       "  publish_date                                      headline_text   Score  \\\n",
       "0   2001-01-02  Status quo will not be disturbed at Ayodhya; s...  0.2924   \n",
       "1   2001-01-03           Powerless north India gropes in the dark -0.4939   \n",
       "2   2001-01-04    The string that pulled Stephen Hawking to India  0.0000   \n",
       "3   2001-01-05     Light combat craft takes India into club class -0.3400   \n",
       "4   2001-01-06     Light combat craft takes India into club class -0.3400   \n",
       "\n",
       "  sentiment_report  \n",
       "0         positive  \n",
       "1         negative  \n",
       "2          neutral  \n",
       "3         negative  \n",
       "4         negative  "
      ]
     },
     "execution_count": 107,
     "metadata": {},
     "output_type": "execute_result"
    }
   ],
   "source": [
    "news['sentiment_report'] = sentiment\n",
    "news.head()"
   ]
  },
  {
   "cell_type": "code",
   "execution_count": 122,
   "metadata": {},
   "outputs": [
    {
     "data": {
      "text/html": [
       "<div>\n",
       "<style scoped>\n",
       "    .dataframe tbody tr th:only-of-type {\n",
       "        vertical-align: middle;\n",
       "    }\n",
       "\n",
       "    .dataframe tbody tr th {\n",
       "        vertical-align: top;\n",
       "    }\n",
       "\n",
       "    .dataframe thead th {\n",
       "        text-align: right;\n",
       "    }\n",
       "</style>\n",
       "<table border=\"1\" class=\"dataframe\">\n",
       "  <thead>\n",
       "    <tr style=\"text-align: right;\">\n",
       "      <th></th>\n",
       "      <th>publish_date</th>\n",
       "      <th>Close</th>\n",
       "      <th>headline_text</th>\n",
       "      <th>Score</th>\n",
       "      <th>sentiment_report</th>\n",
       "    </tr>\n",
       "  </thead>\n",
       "  <tbody>\n",
       "    <tr>\n",
       "      <th>0</th>\n",
       "      <td>2017-01-02</td>\n",
       "      <td>26595.45</td>\n",
       "      <td>Destress plan for the first Monday of 2017</td>\n",
       "      <td>0.0000</td>\n",
       "      <td>neutral</td>\n",
       "    </tr>\n",
       "    <tr>\n",
       "      <th>1</th>\n",
       "      <td>2017-01-03</td>\n",
       "      <td>26643.24</td>\n",
       "      <td>State opposition dismisses Samajwadi Party feu...</td>\n",
       "      <td>0.0772</td>\n",
       "      <td>neutral</td>\n",
       "    </tr>\n",
       "    <tr>\n",
       "      <th>2</th>\n",
       "      <td>2017-01-04</td>\n",
       "      <td>26633.13</td>\n",
       "      <td>Rudra Soni ready to go bald for TV; not Bollyw...</td>\n",
       "      <td>0.4199</td>\n",
       "      <td>positive</td>\n",
       "    </tr>\n",
       "    <tr>\n",
       "      <th>3</th>\n",
       "      <td>2017-01-05</td>\n",
       "      <td>26878.24</td>\n",
       "      <td>Decoding Buddhist prayer flags</td>\n",
       "      <td>0.0000</td>\n",
       "      <td>neutral</td>\n",
       "    </tr>\n",
       "    <tr>\n",
       "      <th>4</th>\n",
       "      <td>2017-01-06</td>\n",
       "      <td>26759.23</td>\n",
       "      <td>Will stay bachelor to serve Akhilesh; says thr...</td>\n",
       "      <td>0.0000</td>\n",
       "      <td>neutral</td>\n",
       "    </tr>\n",
       "    <tr>\n",
       "      <th>...</th>\n",
       "      <td>...</td>\n",
       "      <td>...</td>\n",
       "      <td>...</td>\n",
       "      <td>...</td>\n",
       "      <td>...</td>\n",
       "    </tr>\n",
       "    <tr>\n",
       "      <th>986</th>\n",
       "      <td>2020-12-24</td>\n",
       "      <td>46973.54</td>\n",
       "      <td>How to set the mood for sex during cold winters</td>\n",
       "      <td>0.0000</td>\n",
       "      <td>neutral</td>\n",
       "    </tr>\n",
       "    <tr>\n",
       "      <th>987</th>\n",
       "      <td>2020-12-28</td>\n",
       "      <td>47353.75</td>\n",
       "      <td>Horoscope Today; 28 December 2020: Check astro...</td>\n",
       "      <td>-0.6597</td>\n",
       "      <td>negative</td>\n",
       "    </tr>\n",
       "    <tr>\n",
       "      <th>988</th>\n",
       "      <td>2020-12-29</td>\n",
       "      <td>47613.08</td>\n",
       "      <td>Man recovers charred remains of 'thief' from h...</td>\n",
       "      <td>-0.4019</td>\n",
       "      <td>negative</td>\n",
       "    </tr>\n",
       "    <tr>\n",
       "      <th>989</th>\n",
       "      <td>2020-12-30</td>\n",
       "      <td>47746.22</td>\n",
       "      <td>Numerology Readings 30 December 2020: Predicti...</td>\n",
       "      <td>0.7096</td>\n",
       "      <td>positive</td>\n",
       "    </tr>\n",
       "    <tr>\n",
       "      <th>990</th>\n",
       "      <td>2020-12-31</td>\n",
       "      <td>47751.33</td>\n",
       "      <td>Horoscope Today; 31 December 2020: Check astro...</td>\n",
       "      <td>-0.6597</td>\n",
       "      <td>negative</td>\n",
       "    </tr>\n",
       "  </tbody>\n",
       "</table>\n",
       "<p>991 rows × 5 columns</p>\n",
       "</div>"
      ],
      "text/plain": [
       "    publish_date     Close                                      headline_text  \\\n",
       "0     2017-01-02  26595.45         Destress plan for the first Monday of 2017   \n",
       "1     2017-01-03  26643.24  State opposition dismisses Samajwadi Party feu...   \n",
       "2     2017-01-04  26633.13  Rudra Soni ready to go bald for TV; not Bollyw...   \n",
       "3     2017-01-05  26878.24                     Decoding Buddhist prayer flags   \n",
       "4     2017-01-06  26759.23  Will stay bachelor to serve Akhilesh; says thr...   \n",
       "..           ...       ...                                                ...   \n",
       "986   2020-12-24  46973.54    How to set the mood for sex during cold winters   \n",
       "987   2020-12-28  47353.75  Horoscope Today; 28 December 2020: Check astro...   \n",
       "988   2020-12-29  47613.08  Man recovers charred remains of 'thief' from h...   \n",
       "989   2020-12-30  47746.22  Numerology Readings 30 December 2020: Predicti...   \n",
       "990   2020-12-31  47751.33  Horoscope Today; 31 December 2020: Check astro...   \n",
       "\n",
       "      Score sentiment_report  \n",
       "0    0.0000          neutral  \n",
       "1    0.0772          neutral  \n",
       "2    0.4199         positive  \n",
       "3    0.0000          neutral  \n",
       "4    0.0000          neutral  \n",
       "..      ...              ...  \n",
       "986  0.0000          neutral  \n",
       "987 -0.6597         negative  \n",
       "988 -0.4019         negative  \n",
       "989  0.7096         positive  \n",
       "990 -0.6597         negative  \n",
       "\n",
       "[991 rows x 5 columns]"
      ]
     },
     "execution_count": 122,
     "metadata": {},
     "output_type": "execute_result"
    }
   ],
   "source": [
    "# now merging the two datsets on  date\n",
    "\n",
    "data2 = pd.merge(data1, news, how='left', on ='publish_date')\n",
    "data2.dropna(inplace=True)\n",
    "data2"
   ]
  },
  {
   "cell_type": "code",
   "execution_count": 126,
   "metadata": {},
   "outputs": [
    {
     "data": {
      "text/html": [
       "<div>\n",
       "<style scoped>\n",
       "    .dataframe tbody tr th:only-of-type {\n",
       "        vertical-align: middle;\n",
       "    }\n",
       "\n",
       "    .dataframe tbody tr th {\n",
       "        vertical-align: top;\n",
       "    }\n",
       "\n",
       "    .dataframe thead th {\n",
       "        text-align: right;\n",
       "    }\n",
       "</style>\n",
       "<table border=\"1\" class=\"dataframe\">\n",
       "  <thead>\n",
       "    <tr style=\"text-align: right;\">\n",
       "      <th></th>\n",
       "      <th>Close</th>\n",
       "      <th>sentiment_report</th>\n",
       "    </tr>\n",
       "  </thead>\n",
       "  <tbody>\n",
       "    <tr>\n",
       "      <th>0</th>\n",
       "      <td>26595.45</td>\n",
       "      <td>neutral</td>\n",
       "    </tr>\n",
       "    <tr>\n",
       "      <th>1</th>\n",
       "      <td>26643.24</td>\n",
       "      <td>neutral</td>\n",
       "    </tr>\n",
       "    <tr>\n",
       "      <th>2</th>\n",
       "      <td>26633.13</td>\n",
       "      <td>positive</td>\n",
       "    </tr>\n",
       "    <tr>\n",
       "      <th>3</th>\n",
       "      <td>26878.24</td>\n",
       "      <td>neutral</td>\n",
       "    </tr>\n",
       "    <tr>\n",
       "      <th>4</th>\n",
       "      <td>26759.23</td>\n",
       "      <td>neutral</td>\n",
       "    </tr>\n",
       "    <tr>\n",
       "      <th>...</th>\n",
       "      <td>...</td>\n",
       "      <td>...</td>\n",
       "    </tr>\n",
       "    <tr>\n",
       "      <th>986</th>\n",
       "      <td>46973.54</td>\n",
       "      <td>neutral</td>\n",
       "    </tr>\n",
       "    <tr>\n",
       "      <th>987</th>\n",
       "      <td>47353.75</td>\n",
       "      <td>negative</td>\n",
       "    </tr>\n",
       "    <tr>\n",
       "      <th>988</th>\n",
       "      <td>47613.08</td>\n",
       "      <td>negative</td>\n",
       "    </tr>\n",
       "    <tr>\n",
       "      <th>989</th>\n",
       "      <td>47746.22</td>\n",
       "      <td>positive</td>\n",
       "    </tr>\n",
       "    <tr>\n",
       "      <th>990</th>\n",
       "      <td>47751.33</td>\n",
       "      <td>negative</td>\n",
       "    </tr>\n",
       "  </tbody>\n",
       "</table>\n",
       "<p>991 rows × 2 columns</p>\n",
       "</div>"
      ],
      "text/plain": [
       "        Close sentiment_report\n",
       "0    26595.45          neutral\n",
       "1    26643.24          neutral\n",
       "2    26633.13         positive\n",
       "3    26878.24          neutral\n",
       "4    26759.23          neutral\n",
       "..        ...              ...\n",
       "986  46973.54          neutral\n",
       "987  47353.75         negative\n",
       "988  47613.08         negative\n",
       "989  47746.22         positive\n",
       "990  47751.33         negative\n",
       "\n",
       "[991 rows x 2 columns]"
      ]
     },
     "execution_count": 126,
     "metadata": {},
     "output_type": "execute_result"
    }
   ],
   "source": [
    "data3 = data2[['Close','sentiment_report']]\n",
    "data3"
   ]
  },
  {
   "cell_type": "code",
   "execution_count": 127,
   "metadata": {},
   "outputs": [
    {
     "data": {
      "text/html": [
       "<div>\n",
       "<style scoped>\n",
       "    .dataframe tbody tr th:only-of-type {\n",
       "        vertical-align: middle;\n",
       "    }\n",
       "\n",
       "    .dataframe tbody tr th {\n",
       "        vertical-align: top;\n",
       "    }\n",
       "\n",
       "    .dataframe thead th {\n",
       "        text-align: right;\n",
       "    }\n",
       "</style>\n",
       "<table border=\"1\" class=\"dataframe\">\n",
       "  <thead>\n",
       "    <tr style=\"text-align: right;\">\n",
       "      <th></th>\n",
       "      <th>Close</th>\n",
       "    </tr>\n",
       "    <tr>\n",
       "      <th>sentiment_report</th>\n",
       "      <th></th>\n",
       "    </tr>\n",
       "  </thead>\n",
       "  <tbody>\n",
       "    <tr>\n",
       "      <th>negative</th>\n",
       "      <td>36003.756335</td>\n",
       "    </tr>\n",
       "    <tr>\n",
       "      <th>neutral</th>\n",
       "      <td>35491.944946</td>\n",
       "    </tr>\n",
       "    <tr>\n",
       "      <th>positive</th>\n",
       "      <td>35648.652491</td>\n",
       "    </tr>\n",
       "  </tbody>\n",
       "</table>\n",
       "</div>"
      ],
      "text/plain": [
       "                         Close\n",
       "sentiment_report              \n",
       "negative          36003.756335\n",
       "neutral           35491.944946\n",
       "positive          35648.652491"
      ]
     },
     "execution_count": 127,
     "metadata": {},
     "output_type": "execute_result"
    }
   ],
   "source": [
    "data3.groupby(['sentiment_report']).mean()"
   ]
  },
  {
   "cell_type": "code",
   "execution_count": null,
   "metadata": {},
   "outputs": [],
   "source": []
  }
 ],
 "metadata": {
  "kernelspec": {
   "display_name": "Python 3",
   "language": "python",
   "name": "python3"
  },
  "language_info": {
   "codemirror_mode": {
    "name": "ipython",
    "version": 3
   },
   "file_extension": ".py",
   "mimetype": "text/x-python",
   "name": "python",
   "nbconvert_exporter": "python",
   "pygments_lexer": "ipython3",
   "version": "3.8.3"
  }
 },
 "nbformat": 4,
 "nbformat_minor": 4
}
